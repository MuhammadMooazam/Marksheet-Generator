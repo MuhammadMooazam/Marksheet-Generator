{
  "nbformat": 4,
  "nbformat_minor": 0,
  "metadata": {
    "colab": {
      "name": "IoT Python 2021.ipynb",
      "provenance": []
    },
    "kernelspec": {
      "name": "python3",
      "display_name": "Python 3"
    },
    "language_info": {
      "name": "python"
    }
  },
  "cells": [
    {
      "cell_type": "code",
      "execution_count": 25,
      "metadata": {
        "colab": {
          "base_uri": "https://localhost:8080/",
          "height": 802
        },
        "id": "jW1YG62zW0Qo",
        "outputId": "e21ab5ee-c358-483e-c53b-64e69dbcba85"
      },
      "outputs": [
        {
          "output_type": "stream",
          "name": "stdout",
          "text": [
            "Enter student 1 Maths marks: 90\n",
            "Enter student 1 Physics marks: 80\n",
            "Enter student 1 Chemistry marks: 95\n",
            "Student 1 has distinction\n",
            "Student 1 percentage is 88.33333333333333 %\n",
            "\n",
            "Enter student 2 Maths marks: 90\n",
            "Enter student 2 Physics marks: 88\n",
            "Enter student 2 Chemistry marks: 90\n",
            "Student 2 has distinction\n",
            "Student 2 percentage is 89.33333333333333 %\n",
            "\n",
            "Enter student 3 Maths marks: 55\n",
            "Enter student 3 Physics marks: 78\n",
            "Enter student 3 Chemistry marks: 80\n",
            "Student 3 percentage is 71.0 %\n",
            "\n",
            "Enter student 4 Maths marks: 87\n",
            "Enter student 4 Physics marks: 65\n",
            "Enter student 4 Chemistry marks: 78\n",
            "Student 4 percentage is 76.66666666666667 %\n",
            "\n",
            "Enter student 5 Maths marks: 90\n",
            "Enter student 5 Physics marks: 90\n",
            "Enter student 5 Chemistry marks: 90\n",
            "Student 5 has distinction\n",
            "Student 5 percentage is 90.0 %\n",
            "\n",
            "Number of student with distincton are  3\n",
            "Number of student without distincton are  2\n",
            "\n"
          ]
        },
        {
          "output_type": "display_data",
          "data": {
            "image/png": "[encoded data removed]",
            "text/plain": [
              "<Figure size 432x288 with 1 Axes>"
            ]
          },
          "metadata": {}
        }
      ],
      "source": [
        "import matplotlib.pyplot as plt\n",
        "import numpy as np\n",
        "\n",
        "distinction = 0\n",
        "totalMarks = 300\n",
        "\n",
        "stu1Maths = int(input(\"Enter student 1 Maths marks: \"))\n",
        "stu1Physics = int(input(\"Enter student 1 Physics marks: \"))\n",
        "stu1Chem = int(input(\"Enter student 1 Chemistry marks: \"))\n",
        "stu1Percentage = (stu1Maths + stu1Physics + stu1Chem) / 300 * 100\n",
        "if stu1Percentage >= 85:\n",
        "  distinction += 1\n",
        "  print(\"Student 1 has distinction\")\n",
        "print(\"Student 1 percentage is\" , stu1Percentage , \"%\")\n",
        "print(\"\")\n",
        "\n",
        "stu2Maths = int(input(\"Enter student 2 Maths marks: \"))\n",
        "stu2Physics = int(input(\"Enter student 2 Physics marks: \"))\n",
        "stu2Chem = int(input(\"Enter student 2 Chemistry marks: \"))\n",
        "stu2Percentage = (stu2Maths + stu2Physics + stu2Chem) / 300 * 100\n",
        "if stu2Percentage >= 85:\n",
        "  distinction += 1\n",
        "  print(\"Student 2 has distinction\")\n",
        "print(\"Student 2 percentage is\" , stu2Percentage , \"%\")\n",
        "print(\"\")\n",
        "\n",
        "stu3Maths = int(input(\"Enter student 3 Maths marks: \"))\n",
        "stu3Physics = int(input(\"Enter student 3 Physics marks: \"))\n",
        "stu3Chem = int(input(\"Enter student 3 Chemistry marks: \"))\n",
        "stu3Percentage = (stu3Maths + stu3Physics + stu3Chem) / 300 * 100\n",
        "if stu3Percentage >= 85:\n",
        "  distinction += 1\n",
        "  print(\"Student 3 has distinction\")\n",
        "print(\"Student 3 percentage is\" , stu3Percentage , \"%\")\n",
        "print(\"\")\n",
        "\n",
        "stu4Maths = int(input(\"Enter student 4 Maths marks: \"))\n",
        "stu4Physics = int(input(\"Enter student 4 Physics marks: \"))\n",
        "stu4Chem = int(input(\"Enter student 4 Chemistry marks: \"))\n",
        "stu4Percentage = (stu4Maths + stu4Physics + stu4Chem) / 300 * 100\n",
        "if stu4Percentage >= 85:\n",
        "  distinction += 1\n",
        "  print(\"Student 4 has distinction\")\n",
        "print(\"Student 4 percentage is\" , stu4Percentage , \"%\")\n",
        "print(\"\")\n",
        "\n",
        "stu5Maths = int(input(\"Enter student 5 Maths marks: \"))\n",
        "stu5Physics = int(input(\"Enter student 5 Physics marks: \"))\n",
        "stu5Chem = int(input(\"Enter student 5 Chemistry marks: \"))\n",
        "stu5Percentage = (stu5Maths + stu5Physics + stu5Chem) / 300 * 100\n",
        "if stu5Percentage >= 85:\n",
        "  distinction += 1\n",
        "  print(\"Student 5 has distinction\")\n",
        "print(\"Student 5 percentage is\" , stu5Percentage , \"%\")\n",
        "print(\"\")\n",
        "\n",
        "print(\"Number of student with distincton are \" , distinction)\n",
        "noDistinction = 5- distinction\n",
        "print(\"Number of student without distincton are \" , noDistinction)\n",
        "print(\"\")\n",
        "\n",
        "piePlot = np.array([distinction , noDistinction])\n",
        "mylabels = [\"Distinction\", \"No Distinction\"]\n",
        "\n",
        "plt.title(\"Students with Distinction and No Distinction\", bbox={'facecolor':'0.8', 'pad':5})\n",
        "plt.pie(piePlot , labels = mylabels , autopct=\"%1.1f%%\")\n",
        "plt.legend()\n",
        "plt.show()"
      ]
    },
    {
      "cell_type": "code",
      "source": [
        ""
      ],
      "metadata": {
        "id": "kiFS_cRHXW51"
      },
      "execution_count": null,
      "outputs": []
    }
  ]
}
